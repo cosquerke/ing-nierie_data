{
 "cells": [
  {
   "cell_type": "markdown",
   "metadata": {},
   "source": [
    "# Projet Ingénieurie des données"
   ]
  },
  {
   "cell_type": "markdown",
   "metadata": {},
   "source": [
    "Importation des bibliothèques"
   ]
  },
  {
   "cell_type": "code",
   "execution_count": 13,
   "metadata": {},
   "outputs": [],
   "source": [
    "import pandas as pd"
   ]
  },
  {
   "cell_type": "markdown",
   "metadata": {},
   "source": [
    "## Création du jeu de données principal"
   ]
  },
  {
   "cell_type": "code",
   "execution_count": 14,
   "metadata": {},
   "outputs": [],
   "source": [
    "client_df_brut = pd.read_csv(\"X.csv\", delimiter=\",\")\n",
    "batiment_df_brut = pd.read_csv(\"Y.csv\", delimiter=\",\")\n",
    "full_df_brut = pd.merge(client_df_brut, batiment_df_brut, on='Identifiant')  "
   ]
  },
  {
   "cell_type": "markdown",
   "metadata": {},
   "source": [
    "On fusionne les deux dataframes car ils disposent d'un dénominateur commun: l'identifiant du contrat. Les dataframes ont le même nombre de ligne (10229).\n",
    "\n",
    "# Etape 1: nettoyage du dataframe\n",
    "## Suppression des colonnes indiquant le numero de la ligne"
   ]
  },
  {
   "cell_type": "code",
   "execution_count": 15,
   "metadata": {},
   "outputs": [],
   "source": [
    "clean_df = full_df_brut.drop(\"Unnamed: 0_x\", axis=1)\n",
    "clean_df = clean_df.drop(\"Unnamed: 0_y\", axis=1)"
   ]
  },
  {
   "cell_type": "markdown",
   "metadata": {},
   "source": [
    "On se sert des identifiant pour identifier les batiments, ils sont uniques à chaque batiment"
   ]
  },
  {
   "cell_type": "code",
   "execution_count": 16,
   "metadata": {},
   "outputs": [
    {
     "name": "stdout",
     "output_type": "stream",
     "text": [
      "True\n"
     ]
    }
   ],
   "source": [
    "print(clean_df[\"Identifiant\"].is_unique)"
   ]
  },
  {
   "cell_type": "markdown",
   "metadata": {},
   "source": [
    "Verification des valeurs nulles"
   ]
  },
  {
   "cell_type": "code",
   "execution_count": 17,
   "metadata": {},
   "outputs": [
    {
     "name": "stdout",
     "output_type": "stream",
     "text": [
      "Identifiant       0\n",
      "ft_2_categ        0\n",
      "EXPO              0\n",
      "ft_4_categ        0\n",
      "ft_5_categ        0\n",
      "ft_6_categ        0\n",
      "ft_7_categ        0\n",
      "ft_8_categ        0\n",
      "ft_9_categ        0\n",
      "ft_10_categ       0\n",
      "ft_11_categ       0\n",
      "ft_12_categ       0\n",
      "ft_13_categ       0\n",
      "ft_14_categ       0\n",
      "ft_15_categ       0\n",
      "ft_16_categ       0\n",
      "ft_17_categ       0\n",
      "ft_18_categ       0\n",
      "ft_19_categ       0\n",
      "superficief     119\n",
      "ft_21_categ       0\n",
      "ft_22_categ    1236\n",
      "ft_23_categ       0\n",
      "ft_24_categ       0\n",
      "Insee           115\n",
      "target            0\n",
      "dtype: int64\n"
     ]
    }
   ],
   "source": [
    "print(clean_df.isnull().sum())"
   ]
  },
  {
   "cell_type": "markdown",
   "metadata": {},
   "source": [
    "Colonnes Insee, superficief et ft_22_categ comportent des valeurs nulles."
   ]
  },
  {
   "cell_type": "code",
   "execution_count": 18,
   "metadata": {},
   "outputs": [],
   "source": [
    "percet_of_nullable_values = (clean_df[\"ft_22_categ\"].isnull().sum() / clean_df.shape[0]) * 100 # 12% de valeur nulles pour ft_22_categ, l'analyse de cette variable semble difficle. Cependant, elle est notée comme importante, on supprime les lignes ou la valeur vaut null\n",
    "clean_df = clean_df.dropna(subset=['ft_22_categ'])"
   ]
  },
  {
   "cell_type": "markdown",
   "metadata": {},
   "source": [
    "12% de valeur nulles pour ft_22_categ, l'analyse de cette variable semble difficle. Cependant, elle est notée comme importante, on supprime les lignes ou la valeur vaut null"
   ]
  },
  {
   "cell_type": "code",
   "execution_count": 19,
   "metadata": {},
   "outputs": [
    {
     "name": "stdout",
     "output_type": "stream",
     "text": [
      "       Identifiant  ft_2_categ         EXPO  ft_4_categ ft_5_categ ft_6_categ  \\\n",
      "15           14454        2013            1           1          V          V   \n",
      "33           17151        2012            1           0          V          V   \n",
      "37           11721        2012            1           0          V          V   \n",
      "45           15994        2012            1           1          V          V   \n",
      "136           5078        2013            1           1          V          V   \n",
      "...            ...         ...          ...         ...        ...        ...   \n",
      "9711         15067        2012            1           0          V          V   \n",
      "9729         17650        2012            1           1          V          V   \n",
      "10007        17249        2012            1           0          V          V   \n",
      "10071           48        2014  0,030136986           0          V          V   \n",
      "10124        15812        2012            1           0          V          V   \n",
      "\n",
      "      ft_7_categ ft_8_categ ft_9_categ ft_10_categ  ... ft_17_categ  \\\n",
      "15             V          V          V           V  ...           V   \n",
      "33             V          V          V           V  ...           V   \n",
      "37             V          V          V           V  ...           V   \n",
      "45             V          V          V           V  ...           V   \n",
      "136            V          V          V           V  ...           V   \n",
      "...          ...        ...        ...         ...  ...         ...   \n",
      "9711           V          V          V           V  ...           V   \n",
      "9729           V          V          V           V  ...           V   \n",
      "10007          V          V          V           V  ...           V   \n",
      "10071          V          V          V           V  ...           V   \n",
      "10124          V          V          V           V  ...           V   \n",
      "\n",
      "      ft_18_categ ft_19_categ superficief ft_21_categ ft_22_categ ft_23_categ  \\\n",
      "15              V           2         NaN           2      2011.0           V   \n",
      "33              V           2         NaN           2      1920.0           V   \n",
      "37              V           2         NaN           2      1993.0           V   \n",
      "45              V           2         NaN           4      1987.0           V   \n",
      "136             V           2         NaN           2      1950.0           V   \n",
      "...           ...         ...         ...         ...         ...         ...   \n",
      "9711            V           2         NaN           3      1960.0           V   \n",
      "9729            V           2         NaN           3      1960.0           V   \n",
      "10007           V           2         NaN           2      1960.0           V   \n",
      "10071           V           2         NaN           1      1970.0           V   \n",
      "10124           V           2         NaN           1      2009.0           V   \n",
      "\n",
      "      ft_24_categ  Insee  target  \n",
      "15              .    NaN       0  \n",
      "33              .    NaN       0  \n",
      "37              .    NaN       0  \n",
      "45              .    NaN       0  \n",
      "136             .    NaN       0  \n",
      "...           ...    ...     ...  \n",
      "9711            .    NaN       0  \n",
      "9729            .    NaN       0  \n",
      "10007           .    NaN       0  \n",
      "10071           .    NaN       0  \n",
      "10124           .    NaN       0  \n",
      "\n",
      "[115 rows x 26 columns]\n",
      "       Identifiant  ft_2_categ         EXPO  ft_4_categ ft_5_categ ft_6_categ  \\\n",
      "15           14454        2013            1           1          V          V   \n",
      "33           17151        2012            1           0          V          V   \n",
      "37           11721        2012            1           0          V          V   \n",
      "45           15994        2012            1           1          V          V   \n",
      "136           5078        2013            1           1          V          V   \n",
      "...            ...         ...          ...         ...        ...        ...   \n",
      "9711         15067        2012            1           0          V          V   \n",
      "9729         17650        2012            1           1          V          V   \n",
      "10007        17249        2012            1           0          V          V   \n",
      "10071           48        2014  0,030136986           0          V          V   \n",
      "10124        15812        2012            1           0          V          V   \n",
      "\n",
      "      ft_7_categ ft_8_categ ft_9_categ ft_10_categ  ... ft_17_categ  \\\n",
      "15             V          V          V           V  ...           V   \n",
      "33             V          V          V           V  ...           V   \n",
      "37             V          V          V           V  ...           V   \n",
      "45             V          V          V           V  ...           V   \n",
      "136            V          V          V           V  ...           V   \n",
      "...          ...        ...        ...         ...  ...         ...   \n",
      "9711           V          V          V           V  ...           V   \n",
      "9729           V          V          V           V  ...           V   \n",
      "10007          V          V          V           V  ...           V   \n",
      "10071          V          V          V           V  ...           V   \n",
      "10124          V          V          V           V  ...           V   \n",
      "\n",
      "      ft_18_categ ft_19_categ superficief ft_21_categ ft_22_categ ft_23_categ  \\\n",
      "15              V           2         NaN           2      2011.0           V   \n",
      "33              V           2         NaN           2      1920.0           V   \n",
      "37              V           2         NaN           2      1993.0           V   \n",
      "45              V           2         NaN           4      1987.0           V   \n",
      "136             V           2         NaN           2      1950.0           V   \n",
      "...           ...         ...         ...         ...         ...         ...   \n",
      "9711            V           2         NaN           3      1960.0           V   \n",
      "9729            V           2         NaN           3      1960.0           V   \n",
      "10007           V           2         NaN           2      1960.0           V   \n",
      "10071           V           2         NaN           1      1970.0           V   \n",
      "10124           V           2         NaN           1      2009.0           V   \n",
      "\n",
      "      ft_24_categ  Insee  target  \n",
      "15              .    NaN       0  \n",
      "33              .    NaN       0  \n",
      "37              .    NaN       0  \n",
      "45              .    NaN       0  \n",
      "136             .    NaN       0  \n",
      "...           ...    ...     ...  \n",
      "9711            .    NaN       0  \n",
      "9729            .    NaN       0  \n",
      "10007           .    NaN       0  \n",
      "10071           .    NaN       0  \n",
      "10124           .    NaN       0  \n",
      "\n",
      "[115 rows x 26 columns]\n"
     ]
    }
   ],
   "source": [
    "print(clean_df[clean_df['superficief'].isna()])\n",
    "nullable_lines = clean_df.loc[clean_df['superficief'].isnull() & clean_df['Insee'].isnull()]\n",
    "print(nullable_lines)"
   ]
  },
  {
   "cell_type": "markdown",
   "metadata": {},
   "source": [
    "Dans la plupart des cas si le code Insee est null alors la superficie aussi, les variables sont en correlation sur ce ce point. On peut donc supprimer ces lignes"
   ]
  },
  {
   "cell_type": "code",
   "execution_count": 20,
   "metadata": {},
   "outputs": [
    {
     "name": "stdout",
     "output_type": "stream",
     "text": [
      "Identifiant    0\n",
      "ft_2_categ     0\n",
      "EXPO           0\n",
      "ft_4_categ     0\n",
      "ft_5_categ     0\n",
      "ft_6_categ     0\n",
      "ft_7_categ     0\n",
      "ft_8_categ     0\n",
      "ft_9_categ     0\n",
      "ft_10_categ    0\n",
      "ft_11_categ    0\n",
      "ft_12_categ    0\n",
      "ft_13_categ    0\n",
      "ft_14_categ    0\n",
      "ft_15_categ    0\n",
      "ft_16_categ    0\n",
      "ft_17_categ    0\n",
      "ft_18_categ    0\n",
      "ft_19_categ    0\n",
      "superficief    0\n",
      "ft_21_categ    0\n",
      "ft_22_categ    0\n",
      "ft_23_categ    0\n",
      "ft_24_categ    0\n",
      "Insee          0\n",
      "target         0\n",
      "dtype: int64\n"
     ]
    }
   ],
   "source": [
    "clean_df = clean_df.dropna(subset=['superficief', 'Insee'])\n",
    "print(clean_df.isnull().sum())"
   ]
  },
  {
   "cell_type": "markdown",
   "metadata": {},
   "source": [
    "plus aucunes valeurs nulles\n",
    "\n",
    "# Etape n°2: Typage des variables"
   ]
  },
  {
   "cell_type": "code",
   "execution_count": 21,
   "metadata": {},
   "outputs": [
    {
     "name": "stdout",
     "output_type": "stream",
     "text": [
      "<class 'pandas.core.frame.DataFrame'>\n",
      "Index: 8878 entries, 0 to 10228\n",
      "Data columns (total 26 columns):\n",
      " #   Column       Non-Null Count  Dtype  \n",
      "---  ------       --------------  -----  \n",
      " 0   Identifiant  8878 non-null   int64  \n",
      " 1   ft_2_categ   8878 non-null   int64  \n",
      " 2   EXPO         8878 non-null   object \n",
      " 3   ft_4_categ   8878 non-null   int64  \n",
      " 4   ft_5_categ   8878 non-null   object \n",
      " 5   ft_6_categ   8878 non-null   object \n",
      " 6   ft_7_categ   8878 non-null   object \n",
      " 7   ft_8_categ   8878 non-null   object \n",
      " 8   ft_9_categ   8878 non-null   object \n",
      " 9   ft_10_categ  8878 non-null   object \n",
      " 10  ft_11_categ  8878 non-null   object \n",
      " 11  ft_12_categ  8878 non-null   object \n",
      " 12  ft_13_categ  8878 non-null   object \n",
      " 13  ft_14_categ  8878 non-null   object \n",
      " 14  ft_15_categ  8878 non-null   object \n",
      " 15  ft_16_categ  8878 non-null   object \n",
      " 16  ft_17_categ  8878 non-null   object \n",
      " 17  ft_18_categ  8878 non-null   object \n",
      " 18  ft_19_categ  8878 non-null   int64  \n",
      " 19  superficief  8878 non-null   float64\n",
      " 20  ft_21_categ  8878 non-null   int64  \n",
      " 21  ft_22_categ  8878 non-null   float64\n",
      " 22  ft_23_categ  8878 non-null   object \n",
      " 23  ft_24_categ  8878 non-null   object \n",
      " 24  Insee        8878 non-null   object \n",
      " 25  target       8878 non-null   int64  \n",
      "dtypes: float64(2), int64(6), object(18)\n",
      "memory usage: 1.8+ MB\n",
      "None\n"
     ]
    }
   ],
   "source": [
    "print(clean_df.info())"
   ]
  },
  {
   "cell_type": "markdown",
   "metadata": {},
   "source": [
    "Transformation de la valuer cible en booleen"
   ]
  },
  {
   "cell_type": "code",
   "execution_count": 22,
   "metadata": {},
   "outputs": [],
   "source": [
    "clean_df['target'] = clean_df['target'].astype('int64').astype(object)"
   ]
  },
  {
   "cell_type": "markdown",
   "metadata": {},
   "source": [
    "Transformation de la valuer EXPO en Flotant"
   ]
  },
  {
   "cell_type": "code",
   "execution_count": 23,
   "metadata": {},
   "outputs": [
    {
     "name": "stdout",
     "output_type": "stream",
     "text": [
      "<class 'pandas.core.frame.DataFrame'>\n",
      "Index: 8878 entries, 0 to 10228\n",
      "Data columns (total 26 columns):\n",
      " #   Column       Non-Null Count  Dtype  \n",
      "---  ------       --------------  -----  \n",
      " 0   Identifiant  8878 non-null   int64  \n",
      " 1   ft_2_categ   8878 non-null   int64  \n",
      " 2   EXPO         8878 non-null   float64\n",
      " 3   ft_4_categ   8878 non-null   int64  \n",
      " 4   ft_5_categ   8878 non-null   object \n",
      " 5   ft_6_categ   8878 non-null   object \n",
      " 6   ft_7_categ   8878 non-null   object \n",
      " 7   ft_8_categ   8878 non-null   object \n",
      " 8   ft_9_categ   8878 non-null   object \n",
      " 9   ft_10_categ  8878 non-null   object \n",
      " 10  ft_11_categ  8878 non-null   object \n",
      " 11  ft_12_categ  8878 non-null   object \n",
      " 12  ft_13_categ  8878 non-null   object \n",
      " 13  ft_14_categ  8878 non-null   object \n",
      " 14  ft_15_categ  8878 non-null   object \n",
      " 15  ft_16_categ  8878 non-null   object \n",
      " 16  ft_17_categ  8878 non-null   object \n",
      " 17  ft_18_categ  8878 non-null   object \n",
      " 18  ft_19_categ  8878 non-null   int64  \n",
      " 19  superficief  8878 non-null   float64\n",
      " 20  ft_21_categ  8878 non-null   int64  \n",
      " 21  ft_22_categ  8878 non-null   float64\n",
      " 22  ft_23_categ  8878 non-null   object \n",
      " 23  ft_24_categ  8878 non-null   object \n",
      " 24  Insee        8878 non-null   object \n",
      " 25  target       8878 non-null   object \n",
      "dtypes: float64(3), int64(5), object(18)\n",
      "memory usage: 1.8+ MB\n",
      "None\n",
      "   Identifiant  ft_2_categ  EXPO  ft_4_categ ft_5_categ ft_6_categ ft_7_categ  \\\n",
      "0        18702        2014   1.0           0          V          N          1   \n",
      "1         3877        2014   1.0           0          V          V          V   \n",
      "4        17137        2015   1.0           0          V          N          2   \n",
      "5         7580        2016   1.0           1          N          V          V   \n",
      "6        11501        2015   1.0           0          N          V          V   \n",
      "\n",
      "  ft_8_categ ft_9_categ ft_10_categ  ... ft_17_categ ft_18_categ ft_19_categ  \\\n",
      "0          O          1           O  ...           V        base           2   \n",
      "1          V          V           V  ...           N        base           2   \n",
      "4          O          1           O  ...           V        base           2   \n",
      "5          V          V           V  ...           N        base           2   \n",
      "6          V          V           V  ...           N        base           2   \n",
      "\n",
      "  superficief ft_21_categ ft_22_categ ft_23_categ ft_24_categ  Insee  target  \n",
      "0      1351.0           4      2012.0         0.0           2  65440       0  \n",
      "1      1972.0           2      1980.0         0.0           .  14341       1  \n",
      "4      1050.0           2      1972.0         0.0           4  59340       0  \n",
      "5      2039.0           2      1960.0         0.0           .  13206       1  \n",
      "6       750.0           1      1960.0         0.0           .  33015       0  \n",
      "\n",
      "[5 rows x 26 columns]\n"
     ]
    }
   ],
   "source": [
    "clean_df['EXPO'] = clean_df['EXPO'].str.replace(',', '.').astype(float)\n",
    "\n",
    "print(clean_df.info())\n",
    "print(clean_df.head())"
   ]
  }
 ],
 "metadata": {
  "kernelspec": {
   "display_name": "Python 3",
   "language": "python",
   "name": "python3"
  },
  "language_info": {
   "codemirror_mode": {
    "name": "ipython",
    "version": 3
   },
   "file_extension": ".py",
   "mimetype": "text/x-python",
   "name": "python",
   "nbconvert_exporter": "python",
   "pygments_lexer": "ipython3",
   "version": "3.12.2"
  }
 },
 "nbformat": 4,
 "nbformat_minor": 2
}
